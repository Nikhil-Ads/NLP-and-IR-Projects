{
  "nbformat": 4,
  "nbformat_minor": 0,
  "metadata": {
    "colab": {
      "name": "NLP - Frequency Comparison of Keywords - over time.ipynb",
      "provenance": []
    },
    "kernelspec": {
      "name": "python3",
      "display_name": "Python 3"
    },
    "language_info": {
      "name": "python"
    }
  },
  "cells": [
    {
      "cell_type": "markdown",
      "source": [
        "# Comparing Frequencies Across Time Intervals and Categories"
      ],
      "metadata": {
        "id": "kl9kcjG4x3RJ"
      }
    },
    {
      "cell_type": "markdown",
      "source": [
        "## Importing Packages"
      ],
      "metadata": {
        "id": "WozcSmNLx6fY"
      }
    },
    {
      "cell_type": "code",
      "source": [
        "import pandas as pd\n",
        "import numpy as np\n",
        "import regex as re\n",
        "import nltk\n",
        "from nltk.corpus import stopwords\n",
        "from collections import Counter\n",
        "import random\n",
        "import seaborn as sns\n",
        "from matplotlib import pyplot as plt"
      ],
      "metadata": {
        "id": "aMcepVHwx0_C"
      },
      "execution_count": 13,
      "outputs": []
    },
    {
      "cell_type": "markdown",
      "source": [
        "## Downloading and Initializing **Stopwords**"
      ],
      "metadata": {
        "id": "ddnJkXpny6XL"
      }
    },
    {
      "cell_type": "code",
      "source": [
        "nltk.download('stopwords')\n",
        "stopwords = set(nltk.corpus.stopwords.words('english'))"
      ],
      "metadata": {
        "colab": {
          "base_uri": "https://localhost:8080/"
        },
        "id": "FvtKQie4x9xh",
        "outputId": "45d539aa-08eb-4db1-db9a-a23fa1b03386"
      },
      "execution_count": 14,
      "outputs": [
        {
          "output_type": "stream",
          "name": "stdout",
          "text": [
            "[nltk_data] Downloading package stopwords to /root/nltk_data...\n",
            "[nltk_data]   Package stopwords is already up-to-date!\n"
          ]
        }
      ]
    },
    {
      "cell_type": "markdown",
      "source": [
        "## Defining Keywords"
      ],
      "metadata": {
        "id": "96NTxNpXzBE3"
      }
    },
    {
      "cell_type": "code",
      "source": [
        "keywords = ['nuclear', 'terrorism', 'climate', 'freedom']\n",
        "dict1 = dict(zip([0, 1, 2, 3], keywords))"
      ],
      "metadata": {
        "id": "W0GmjTE8yGIi"
      },
      "execution_count": 15,
      "outputs": []
    },
    {
      "cell_type": "markdown",
      "source": [
        "## Reading Dataset"
      ],
      "metadata": {
        "id": "ixfZp3amzHLf"
      }
    },
    {
      "cell_type": "code",
      "source": [
        "df = pd.read_csv(\"un-general-debates-blueprint.csv\")"
      ],
      "metadata": {
        "id": "O2PjfF1fyHn0"
      },
      "execution_count": 16,
      "outputs": []
    },
    {
      "cell_type": "markdown",
      "source": [
        "## About the Dataset"
      ],
      "metadata": {
        "id": "9uW9aG-W7tz7"
      }
    },
    {
      "cell_type": "markdown",
      "source": [
        "### Dataset Information"
      ],
      "metadata": {
        "id": "b3G--_bD7wfx"
      }
    },
    {
      "cell_type": "code",
      "source": [
        "df.info()"
      ],
      "metadata": {
        "colab": {
          "base_uri": "https://localhost:8080/"
        },
        "id": "J3HSvQzgzMKt",
        "outputId": "60d257a4-47e9-4071-b018-33ffdf89ac67"
      },
      "execution_count": 17,
      "outputs": [
        {
          "output_type": "stream",
          "name": "stdout",
          "text": [
            "<class 'pandas.core.frame.DataFrame'>\n",
            "RangeIndex: 7507 entries, 0 to 7506\n",
            "Data columns (total 7 columns):\n",
            " #   Column        Non-Null Count  Dtype \n",
            "---  ------        --------------  ----- \n",
            " 0   session       7507 non-null   int64 \n",
            " 1   year          7507 non-null   int64 \n",
            " 2   country       7507 non-null   object\n",
            " 3   country_name  7507 non-null   object\n",
            " 4   speaker       7480 non-null   object\n",
            " 5   position      4502 non-null   object\n",
            " 6   text          7507 non-null   object\n",
            "dtypes: int64(2), object(5)\n",
            "memory usage: 410.7+ KB\n"
          ]
        }
      ]
    },
    {
      "cell_type": "markdown",
      "source": [
        "### Dataset Statistics"
      ],
      "metadata": {
        "id": "lCM7ru0972Y2"
      }
    },
    {
      "cell_type": "code",
      "source": [
        "df.describe()"
      ],
      "metadata": {
        "colab": {
          "base_uri": "https://localhost:8080/",
          "height": 300
        },
        "id": "S0GagmdJ70Rd",
        "outputId": "857f5a7a-97d4-48dd-9cb1-7ac88b9aadd5"
      },
      "execution_count": 18,
      "outputs": [
        {
          "output_type": "execute_result",
          "data": {
            "text/html": [
              "\n",
              "  <div id=\"df-b243d43e-a90e-475c-b098-8fbed68c6e4c\">\n",
              "    <div class=\"colab-df-container\">\n",
              "      <div>\n",
              "<style scoped>\n",
              "    .dataframe tbody tr th:only-of-type {\n",
              "        vertical-align: middle;\n",
              "    }\n",
              "\n",
              "    .dataframe tbody tr th {\n",
              "        vertical-align: top;\n",
              "    }\n",
              "\n",
              "    .dataframe thead th {\n",
              "        text-align: right;\n",
              "    }\n",
              "</style>\n",
              "<table border=\"1\" class=\"dataframe\">\n",
              "  <thead>\n",
              "    <tr style=\"text-align: right;\">\n",
              "      <th></th>\n",
              "      <th>session</th>\n",
              "      <th>year</th>\n",
              "    </tr>\n",
              "  </thead>\n",
              "  <tbody>\n",
              "    <tr>\n",
              "      <th>count</th>\n",
              "      <td>7507.000000</td>\n",
              "      <td>7507.000000</td>\n",
              "    </tr>\n",
              "    <tr>\n",
              "      <th>mean</th>\n",
              "      <td>49.610763</td>\n",
              "      <td>1994.610763</td>\n",
              "    </tr>\n",
              "    <tr>\n",
              "      <th>std</th>\n",
              "      <td>12.892155</td>\n",
              "      <td>12.892155</td>\n",
              "    </tr>\n",
              "    <tr>\n",
              "      <th>min</th>\n",
              "      <td>25.000000</td>\n",
              "      <td>1970.000000</td>\n",
              "    </tr>\n",
              "    <tr>\n",
              "      <th>25%</th>\n",
              "      <td>39.000000</td>\n",
              "      <td>1984.000000</td>\n",
              "    </tr>\n",
              "    <tr>\n",
              "      <th>50%</th>\n",
              "      <td>51.000000</td>\n",
              "      <td>1996.000000</td>\n",
              "    </tr>\n",
              "    <tr>\n",
              "      <th>75%</th>\n",
              "      <td>61.000000</td>\n",
              "      <td>2006.000000</td>\n",
              "    </tr>\n",
              "    <tr>\n",
              "      <th>max</th>\n",
              "      <td>70.000000</td>\n",
              "      <td>2015.000000</td>\n",
              "    </tr>\n",
              "  </tbody>\n",
              "</table>\n",
              "</div>\n",
              "      <button class=\"colab-df-convert\" onclick=\"convertToInteractive('df-b243d43e-a90e-475c-b098-8fbed68c6e4c')\"\n",
              "              title=\"Convert this dataframe to an interactive table.\"\n",
              "              style=\"display:none;\">\n",
              "        \n",
              "  <svg xmlns=\"http://www.w3.org/2000/svg\" height=\"24px\"viewBox=\"0 0 24 24\"\n",
              "       width=\"24px\">\n",
              "    <path d=\"M0 0h24v24H0V0z\" fill=\"none\"/>\n",
              "    <path d=\"M18.56 5.44l.94 2.06.94-2.06 2.06-.94-2.06-.94-.94-2.06-.94 2.06-2.06.94zm-11 1L8.5 8.5l.94-2.06 2.06-.94-2.06-.94L8.5 2.5l-.94 2.06-2.06.94zm10 10l.94 2.06.94-2.06 2.06-.94-2.06-.94-.94-2.06-.94 2.06-2.06.94z\"/><path d=\"M17.41 7.96l-1.37-1.37c-.4-.4-.92-.59-1.43-.59-.52 0-1.04.2-1.43.59L10.3 9.45l-7.72 7.72c-.78.78-.78 2.05 0 2.83L4 21.41c.39.39.9.59 1.41.59.51 0 1.02-.2 1.41-.59l7.78-7.78 2.81-2.81c.8-.78.8-2.07 0-2.86zM5.41 20L4 18.59l7.72-7.72 1.47 1.35L5.41 20z\"/>\n",
              "  </svg>\n",
              "      </button>\n",
              "      \n",
              "  <style>\n",
              "    .colab-df-container {\n",
              "      display:flex;\n",
              "      flex-wrap:wrap;\n",
              "      gap: 12px;\n",
              "    }\n",
              "\n",
              "    .colab-df-convert {\n",
              "      background-color: #E8F0FE;\n",
              "      border: none;\n",
              "      border-radius: 50%;\n",
              "      cursor: pointer;\n",
              "      display: none;\n",
              "      fill: #1967D2;\n",
              "      height: 32px;\n",
              "      padding: 0 0 0 0;\n",
              "      width: 32px;\n",
              "    }\n",
              "\n",
              "    .colab-df-convert:hover {\n",
              "      background-color: #E2EBFA;\n",
              "      box-shadow: 0px 1px 2px rgba(60, 64, 67, 0.3), 0px 1px 3px 1px rgba(60, 64, 67, 0.15);\n",
              "      fill: #174EA6;\n",
              "    }\n",
              "\n",
              "    [theme=dark] .colab-df-convert {\n",
              "      background-color: #3B4455;\n",
              "      fill: #D2E3FC;\n",
              "    }\n",
              "\n",
              "    [theme=dark] .colab-df-convert:hover {\n",
              "      background-color: #434B5C;\n",
              "      box-shadow: 0px 1px 3px 1px rgba(0, 0, 0, 0.15);\n",
              "      filter: drop-shadow(0px 1px 2px rgba(0, 0, 0, 0.3));\n",
              "      fill: #FFFFFF;\n",
              "    }\n",
              "  </style>\n",
              "\n",
              "      <script>\n",
              "        const buttonEl =\n",
              "          document.querySelector('#df-b243d43e-a90e-475c-b098-8fbed68c6e4c button.colab-df-convert');\n",
              "        buttonEl.style.display =\n",
              "          google.colab.kernel.accessAllowed ? 'block' : 'none';\n",
              "\n",
              "        async function convertToInteractive(key) {\n",
              "          const element = document.querySelector('#df-b243d43e-a90e-475c-b098-8fbed68c6e4c');\n",
              "          const dataTable =\n",
              "            await google.colab.kernel.invokeFunction('convertToInteractive',\n",
              "                                                     [key], {});\n",
              "          if (!dataTable) return;\n",
              "\n",
              "          const docLinkHtml = 'Like what you see? Visit the ' +\n",
              "            '<a target=\"_blank\" href=https://colab.research.google.com/notebooks/data_table.ipynb>data table notebook</a>'\n",
              "            + ' to learn more about interactive tables.';\n",
              "          element.innerHTML = '';\n",
              "          dataTable['output_type'] = 'display_data';\n",
              "          await google.colab.output.renderOutput(dataTable, element);\n",
              "          const docLink = document.createElement('div');\n",
              "          docLink.innerHTML = docLinkHtml;\n",
              "          element.appendChild(docLink);\n",
              "        }\n",
              "      </script>\n",
              "    </div>\n",
              "  </div>\n",
              "  "
            ],
            "text/plain": [
              "           session         year\n",
              "count  7507.000000  7507.000000\n",
              "mean     49.610763  1994.610763\n",
              "std      12.892155    12.892155\n",
              "min      25.000000  1970.000000\n",
              "25%      39.000000  1984.000000\n",
              "50%      51.000000  1996.000000\n",
              "75%      61.000000  2006.000000\n",
              "max      70.000000  2015.000000"
            ]
          },
          "metadata": {},
          "execution_count": 18
        }
      ]
    },
    {
      "cell_type": "markdown",
      "source": [
        "## Defining Methods for Processing"
      ],
      "metadata": {
        "id": "iVur1Jg1zS1H"
      }
    },
    {
      "cell_type": "code",
      "source": [
        "def tokenize(text):\n",
        "\treturn re.findall(r'[\\w-]*\\p{L}[\\w-]*', text)\n",
        "\n",
        "def remove_stop(tokens):\n",
        "\treturn [t for t in tokens if t not in stopwords]\n",
        "\n",
        "def prepare(text, pipeline):\n",
        "\ttokens = text\n",
        "\tfor transform in pipeline:\n",
        "\t\ttokens = transform(tokens)\n",
        "\treturn tokens\n",
        "  \n",
        "def count_keywords(tokens, keywords):\n",
        "\ttokens = [t for t in tokens if t in keywords]\n",
        "\tcounter = Counter(tokens)\n",
        "\treturn [counter.get(k, 0) for k in keywords]"
      ],
      "metadata": {
        "id": "SOMA_4kAyNBx"
      },
      "execution_count": 19,
      "outputs": []
    },
    {
      "cell_type": "markdown",
      "source": [
        "## Defining Tokenizing Pipeline"
      ],
      "metadata": {
        "id": "HBCl8VaEzW8i"
      }
    },
    {
      "cell_type": "code",
      "source": [
        "pipeline = [str.lower, tokenize, remove_stop]"
      ],
      "metadata": {
        "id": "FKtE8eCWyOfh"
      },
      "execution_count": 20,
      "outputs": []
    },
    {
      "cell_type": "markdown",
      "source": [
        "## Data Pre-Processing"
      ],
      "metadata": {
        "id": "SBaFo3FLzeFt"
      }
    },
    {
      "cell_type": "code",
      "source": [
        "df['tokens'] = df['text'].apply(prepare, pipeline=pipeline)\n",
        "df['num_tokens'] = df['tokens'].map(len)"
      ],
      "metadata": {
        "id": "LtE8MP5nyZCz"
      },
      "execution_count": 21,
      "outputs": []
    },
    {
      "cell_type": "markdown",
      "source": [
        "## Evaluating Frequency Matrix from Tokens"
      ],
      "metadata": {
        "id": "T4VpY52fz2P1"
      }
    },
    {
      "cell_type": "code",
      "source": [
        "freq_matrix = df['tokens'].apply(count_keywords, keywords=keywords)\n",
        "df2 = pd.DataFrame.from_dict(dict(zip(freq_matrix.index, freq_matrix.values))).T"
      ],
      "metadata": {
        "id": "HFZksKQWz1J3"
      },
      "execution_count": 22,
      "outputs": []
    },
    {
      "cell_type": "markdown",
      "source": [
        "## Evaluating Ratio of the choosen keywords from the rest of tokens"
      ],
      "metadata": {
        "id": "1v34Rzjt_VXo"
      }
    },
    {
      "cell_type": "code",
      "source": [
        "df3 = df2.rename(columns=dict1) \n",
        "df3['year'] = df['year']\n",
        "freq_df = df3.groupby(by='year').sum()\n",
        "freq_df = freq_df.div(df.groupby('year')['num_tokens'].sum(), axis=0)\n",
        "freq_df = freq_df.apply(np.sqrt)"
      ],
      "metadata": {
        "id": "HEoR3HdpyY75"
      },
      "execution_count": 23,
      "outputs": []
    },
    {
      "cell_type": "code",
      "execution_count": 25,
      "metadata": {
        "colab": {
          "base_uri": "https://localhost:8080/",
          "height": 723
        },
        "id": "C4S0z2AGxw9a",
        "outputId": "3578f60c-853e-4a99-c580-64d2513a4331"
      },
      "outputs": [
        {
          "output_type": "display_data",
          "data": {
            "image/png": "[encoded data removed]",
            "text/plain": [
              "<Figure size 2160x1800 with 1 Axes>"
            ]
          },
          "metadata": {
            "needs_background": "light"
          }
        }
      ],
      "source": [
        "plt.figure(figsize=(30, 25))\n",
        "sns.heatmap(data=freq_df.T, xticklabels=True, yticklabels=True, cbar=False, cmap=\"Reds\")\n",
        "plt.show()"
      ]
    }
  ]
}