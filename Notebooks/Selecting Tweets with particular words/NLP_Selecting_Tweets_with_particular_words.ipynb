{
  "nbformat": 4,
  "nbformat_minor": 0,
  "metadata": {
    "colab": {
      "name": "NLP - Selecting Tweets with particular words.ipynb",
      "provenance": [],
      "toc_visible": true
    },
    "kernelspec": {
      "name": "python3",
      "display_name": "Python 3"
    },
    "language_info": {
      "name": "python"
    }
  },
  "cells": [
    {
      "cell_type": "markdown",
      "source": [
        "# Selecting Tweets, that contains a particular word and then Visualize them (grouped by year)"
      ],
      "metadata": {
        "id": "C5X3wfCLWSAJ"
      }
    },
    {
      "cell_type": "markdown",
      "source": [
        "## Importing Packages"
      ],
      "metadata": {
        "id": "RgWHcDCaWTKj"
      }
    },
    {
      "cell_type": "code",
      "source": [
        "import pandas as pd\n",
        "import sys\n",
        "import matplotlib.pyplot as plt"
      ],
      "metadata": {
        "id": "i-l_6QKEWSnA"
      },
      "execution_count": 1,
      "outputs": []
    },
    {
      "cell_type": "markdown",
      "source": [
        "## Read CSV"
      ],
      "metadata": {
        "id": "oIi8lqINWaDX"
      }
    },
    {
      "cell_type": "code",
      "source": [
        "df = pd.read_csv('tweets_01-08-2021.csv')"
      ],
      "metadata": {
        "id": "9DuHLvAfWZYb"
      },
      "execution_count": 2,
      "outputs": []
    },
    {
      "cell_type": "markdown",
      "source": [
        "## Pre-Processing Data"
      ],
      "metadata": {
        "id": "P2iz-QLUWepQ"
      }
    },
    {
      "cell_type": "markdown",
      "source": [
        "### Adding Additional Required Columns"
      ],
      "metadata": {
        "id": "djzJu0o2WiwB"
      }
    },
    {
      "cell_type": "code",
      "source": [
        "df['date'] = pd.to_datetime(df['date'])\n",
        "df['year'] = df['date'].dt.year"
      ],
      "metadata": {
        "id": "H-x8ySzKWd4B"
      },
      "execution_count": 3,
      "outputs": []
    },
    {
      "cell_type": "markdown",
      "source": [
        "## Selecting Word to be Found"
      ],
      "metadata": {
        "id": "gZs8qSPlW5hu"
      }
    },
    {
      "cell_type": "code",
      "source": [
        "word = 'Afghanistan'"
      ],
      "metadata": {
        "id": "7InjWS3WWpBs"
      },
      "execution_count": 4,
      "outputs": []
    },
    {
      "cell_type": "markdown",
      "source": [
        "## Filtering Tweets that contains the Word Selected"
      ],
      "metadata": {
        "id": "xHMOFr3lW3jI"
      }
    },
    {
      "cell_type": "code",
      "source": [
        "subset = df[df['text'].str.contains(word)]"
      ],
      "metadata": {
        "id": "nfojpuMMW2Jg"
      },
      "execution_count": 5,
      "outputs": []
    },
    {
      "cell_type": "markdown",
      "source": [
        "## Selecting Minimum Number of Tweets Required for Plotting"
      ],
      "metadata": {
        "id": "pdJsVz2hXTmy"
      }
    },
    {
      "cell_type": "code",
      "source": [
        "min_tweets  = 50"
      ],
      "metadata": {
        "id": "aEQx825zXN-c"
      },
      "execution_count": 6,
      "outputs": []
    },
    {
      "cell_type": "markdown",
      "source": [
        "## Data Visualization\n",
        "\n",
        "This section visualizes Tweets groups, based on year."
      ],
      "metadata": {
        "id": "NMB4Qc-3XdYU"
      }
    },
    {
      "cell_type": "code",
      "execution_count": 8,
      "metadata": {
        "colab": {
          "base_uri": "https://localhost:8080/",
          "height": 295
        },
        "id": "_w4a_31SWPIH",
        "outputId": "2ff6bb6d-1461-4702-e640-9977157875c8"
      },
      "outputs": [
        {
          "output_type": "display_data",
          "data": {
            "image/png": "[encoded data removed]",
            "text/plain": [
              "<Figure size 432x288 with 1 Axes>"
            ]
          },
          "metadata": {
            "needs_background": "light"
          }
        }
      ],
      "source": [
        "if len(subset) > min_tweets:\n",
        "    subset.groupby('year').size().plot(title=f\"Trend of Tweets containing {word}, over the years\")\n",
        "    plt.show()\n"
      ]
    },
    {
      "cell_type": "markdown",
      "source": [
        "## Conclusion\n",
        "\n",
        "The trend for tweets containing the word is visualized."
      ],
      "metadata": {
        "id": "I_K3DkpDYqm4"
      }
    }
  ]
}