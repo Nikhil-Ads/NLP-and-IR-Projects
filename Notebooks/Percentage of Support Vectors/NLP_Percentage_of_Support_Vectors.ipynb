{
  "nbformat": 4,
  "nbformat_minor": 0,
  "metadata": {
    "colab": {
      "name": "NLP -  Percentage of Support Vectors.ipynb",
      "provenance": [],
      "collapsed_sections": [],
      "toc_visible": true
    },
    "kernelspec": {
      "name": "python3",
      "display_name": "Python 3"
    },
    "language_info": {
      "name": "python"
    }
  },
  "cells": [
    {
      "cell_type": "markdown",
      "source": [
        "# Finding Percentage of Support Vectors in a SVC model"
      ],
      "metadata": {
        "id": "4nRGXMw-bk5R"
      }
    },
    {
      "cell_type": "markdown",
      "source": [
        "## Importing Packages"
      ],
      "metadata": {
        "id": "0DzQruSAbsLR"
      }
    },
    {
      "cell_type": "code",
      "source": [
        "import numpy as np\n",
        "import pandas as pd\n",
        "import matplotlib.pyplot as plt\n",
        "from sklearn import svm\n",
        "from sklearn.model_selection import train_test_split\n",
        "from sklearn.feature_extraction.text import TfidfVectorizer"
      ],
      "metadata": {
        "id": "Q4IKVqKcbG8D"
      },
      "execution_count": 31,
      "outputs": []
    },
    {
      "cell_type": "markdown",
      "source": [
        "## Reading CSV"
      ],
      "metadata": {
        "id": "gLZVa2d_bueo"
      }
    },
    {
      "cell_type": "code",
      "source": [
        "df = pd.read_csv('eclipse_jdt.csv')"
      ],
      "metadata": {
        "id": "Z-8e8IKQbI7t"
      },
      "execution_count": 32,
      "outputs": []
    },
    {
      "cell_type": "markdown",
      "source": [
        "## Data Pre-Processing"
      ],
      "metadata": {
        "id": "k1cR32Mxbwss"
      }
    },
    {
      "cell_type": "markdown",
      "source": [
        "### Data Transformation"
      ],
      "metadata": {
        "id": "QCqOMDUTb0KR"
      }
    },
    {
      "cell_type": "code",
      "source": [
        "df['text'] = df['Title'] + ' ' + df['Description']\n",
        "df = df.drop(columns=['Title','Description'])"
      ],
      "metadata": {
        "id": "Jb-u7mLbbLOy"
      },
      "execution_count": 33,
      "outputs": []
    },
    {
      "cell_type": "markdown",
      "source": [
        "### Data Filtering"
      ],
      "metadata": {
        "id": "HUmSWrdXb4rw"
      }
    },
    {
      "cell_type": "code",
      "source": [
        "df = df[df['text'].str.len() > 50]"
      ],
      "metadata": {
        "id": "Al3iO6jdb7bK"
      },
      "execution_count": 34,
      "outputs": []
    },
    {
      "cell_type": "markdown",
      "source": [
        "## Data Visualization"
      ],
      "metadata": {
        "id": "_FLw7fDbfRcT"
      }
    },
    {
      "cell_type": "markdown",
      "source": [
        "### **Priority** Distribution Visualization"
      ],
      "metadata": {
        "id": "q75wgOT7fXZt"
      }
    },
    {
      "cell_type": "code",
      "source": [
        "df['Priority'].value_counts().sort_index().plot(kind='bar')\n",
        "plt.show()"
      ],
      "metadata": {
        "colab": {
          "base_uri": "https://localhost:8080/",
          "height": 268
        },
        "outputId": "35508135-2e96-4d0f-9b9a-2411fc133016",
        "id": "RzsuQ1-kfXZu"
      },
      "execution_count": 35,
      "outputs": [
        {
          "output_type": "display_data",
          "data": {
            "image/png": "[encoded data removed]",
            "text/plain": [
              "<Figure size 432x288 with 1 Axes>"
            ]
          },
          "metadata": {
            "needs_background": "light"
          }
        }
      ]
    },
    {
      "cell_type": "markdown",
      "source": [
        "## Balancing the Dataset\n",
        "\n",
        "In this section, we try to balance a category of **Priority**, with the rest."
      ],
      "metadata": {
        "id": "8scJrxPFb8cC"
      }
    },
    {
      "cell_type": "markdown",
      "source": [
        "### Downsampling the biggest priority to relevant numbers"
      ],
      "metadata": {
        "id": "gzS5cldKezpO"
      }
    },
    {
      "cell_type": "code",
      "source": [
        "df_sampleP3 = df[df['Priority'] == 'P3'].sample(n=4000)\n",
        "df_sampleRest = df[df['Priority'] != 'P3']\n",
        "df_balanced = pd.concat([df_sampleRest, df_sampleP3])\n",
        "print(df_balanced['Priority'].value_counts())"
      ],
      "metadata": {
        "colab": {
          "base_uri": "https://localhost:8080/"
        },
        "id": "wJ4ILZ9ebNL0",
        "outputId": "e912b4d3-6d7c-4671-dd40-b6ef833e8002"
      },
      "execution_count": 36,
      "outputs": [
        {
          "output_type": "stream",
          "name": "stdout",
          "text": [
            "P3    4000\n",
            "P2    3040\n",
            "P4    1141\n",
            "P1    1117\n",
            "P5     252\n",
            "Name: Priority, dtype: int64\n"
          ]
        }
      ]
    },
    {
      "cell_type": "markdown",
      "source": [
        "### Dropping NA values"
      ],
      "metadata": {
        "id": "gxnaJBzrcSyR"
      }
    },
    {
      "cell_type": "code",
      "source": [
        "df = df_balanced[['text', 'Priority']]\n",
        "df = df.dropna()"
      ],
      "metadata": {
        "id": "GFnwEPiZbXdU"
      },
      "execution_count": 37,
      "outputs": []
    },
    {
      "cell_type": "markdown",
      "source": [
        "### **Priority** Distribution Visualization"
      ],
      "metadata": {
        "id": "ixcSVfBEfFOz"
      }
    },
    {
      "cell_type": "code",
      "source": [
        "df['Priority'].value_counts().sort_index().plot(kind='bar')\n",
        "plt.show()"
      ],
      "metadata": {
        "colab": {
          "base_uri": "https://localhost:8080/",
          "height": 268
        },
        "id": "qU8aTafJeZQb",
        "outputId": "f326ad44-1581-4e1a-e54a-b4d7dd691ae9"
      },
      "execution_count": 38,
      "outputs": [
        {
          "output_type": "display_data",
          "data": {
            "image/png": "[encoded data removed]",
            "text/plain": [
              "<Figure size 432x288 with 1 Axes>"
            ]
          },
          "metadata": {
            "needs_background": "light"
          }
        }
      ]
    },
    {
      "cell_type": "markdown",
      "source": [
        "## Train-Test Split"
      ],
      "metadata": {
        "id": "A0Xh96NncXUp"
      }
    },
    {
      "cell_type": "code",
      "source": [
        "X_train, X_test, Y_train, Y_test = train_test_split(df['text'],\n",
        "                                                    df['Priority'],\n",
        "                                                    test_size=0.5,\n",
        "                                                    stratify=df['Priority'])\n",
        "print('Size of Training Data ', X_train.shape[0])\n",
        "print('Size of Test Data ', X_test.shape[0])"
      ],
      "metadata": {
        "colab": {
          "base_uri": "https://localhost:8080/"
        },
        "id": "_QWofPZTbdb1",
        "outputId": "e3127302-5ead-4b4b-f30c-96bb6832e6b7"
      },
      "execution_count": 39,
      "outputs": [
        {
          "output_type": "stream",
          "name": "stdout",
          "text": [
            "Size of Training Data  4775\n",
            "Size of Test Data  4775\n"
          ]
        }
      ]
    },
    {
      "cell_type": "markdown",
      "source": [
        "## Applying TF-IDF Vectorizer"
      ],
      "metadata": {
        "id": "jEAXTPOGcasP"
      }
    },
    {
      "cell_type": "code",
      "source": [
        "tfidf = TfidfVectorizer(min_df = 10, ngram_range=(1,2), stop_words=\"english\")\n",
        "X_train_tf = tfidf.fit_transform(X_train)"
      ],
      "metadata": {
        "id": "rBuvG8e2bfNC"
      },
      "execution_count": 40,
      "outputs": []
    },
    {
      "cell_type": "markdown",
      "source": [
        "## Applying SVC Model"
      ],
      "metadata": {
        "id": "b4z8JavfcfVL"
      }
    },
    {
      "cell_type": "code",
      "execution_count": 41,
      "metadata": {
        "colab": {
          "base_uri": "https://localhost:8080/"
        },
        "id": "_NxbaK2ga_q7",
        "outputId": "130172a4-a7e7-414a-e0f0-f70cbed1a0ad"
      },
      "outputs": [
        {
          "output_type": "execute_result",
          "data": {
            "text/plain": [
              "SVC()"
            ]
          },
          "metadata": {},
          "execution_count": 41
        }
      ],
      "source": [
        "model = svm.SVC()\n",
        "model.fit(X_train_tf, Y_train)"
      ]
    },
    {
      "cell_type": "code",
      "source": [
        "print(model.n_support_)"
      ],
      "metadata": {
        "colab": {
          "base_uri": "https://localhost:8080/"
        },
        "id": "Fj-AV5XdfyiE",
        "outputId": "ad1bb821-c261-4c2f-8741-e9f4f2f7fa11"
      },
      "execution_count": 42,
      "outputs": [
        {
          "output_type": "stream",
          "name": "stdout",
          "text": [
            "[ 543 1512 1949  566  126]\n"
          ]
        }
      ]
    },
    {
      "cell_type": "markdown",
      "source": [
        "## Conclusion"
      ],
      "metadata": {
        "id": "_KhD9Cv6fzmZ"
      }
    },
    {
      "cell_type": "code",
      "source": [
        "percentage=(np.sum(model.n_support_) / len(X_train)) * 100\n",
        "print(\"Percentage of data points as support-vectors: \", percentage)"
      ],
      "metadata": {
        "colab": {
          "base_uri": "https://localhost:8080/"
        },
        "id": "OA0dA6-xfu4V",
        "outputId": "3f0d5fa0-99de-4273-b6a6-64027de3e32b"
      },
      "execution_count": 43,
      "outputs": [
        {
          "output_type": "stream",
          "name": "stdout",
          "text": [
            "Percentage of data points as support-vectors:  98.3455497382199\n"
          ]
        }
      ]
    }
  ]
}