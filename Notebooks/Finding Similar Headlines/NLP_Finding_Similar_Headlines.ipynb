{
  "nbformat": 4,
  "nbformat_minor": 0,
  "metadata": {
    "colab": {
      "name": "NLP - Finding Similar Headlines.ipynb",
      "provenance": [],
      "toc_visible": true
    },
    "kernelspec": {
      "name": "python3",
      "display_name": "Python 3"
    },
    "language_info": {
      "name": "python"
    }
  },
  "cells": [
    {
      "cell_type": "markdown",
      "source": [
        "# Finding most similar headlines\n"
      ],
      "metadata": {
        "id": "ltsCuUx3oudR"
      }
    },
    {
      "cell_type": "markdown",
      "source": [
        "## Importing Packages"
      ],
      "metadata": {
        "id": "jmLtuC5tlvM2"
      }
    },
    {
      "cell_type": "code",
      "source": [
        "import pandas as pd\n",
        "import numpy as np\n",
        "import random\n",
        "from sklearn.feature_extraction.text import TfidfVectorizer\n",
        "from sklearn.metrics.pairwise import cosine_similarity"
      ],
      "metadata": {
        "id": "_ilCf5OTlurl"
      },
      "execution_count": 29,
      "outputs": []
    },
    {
      "cell_type": "markdown",
      "source": [
        "## Reading Datasets"
      ],
      "metadata": {
        "id": "3OQ7Z4ROlz2C"
      }
    },
    {
      "cell_type": "code",
      "source": [
        "headlines = pd.read_csv('abcnews-date-text.csv', parse_dates=[\"publish_date\"])"
      ],
      "metadata": {
        "id": "HKkvW4BMlzVE"
      },
      "execution_count": 30,
      "outputs": []
    },
    {
      "cell_type": "markdown",
      "source": [
        "## Defining Methods for Processing"
      ],
      "metadata": {
        "id": "BEh6V5yhw2mM"
      }
    },
    {
      "cell_type": "markdown",
      "source": [
        "### Method for Randomly Selecting a headline"
      ],
      "metadata": {
        "id": "jMBUt3KPw6aB"
      }
    },
    {
      "cell_type": "code",
      "source": [
        "def select_headline(headlines):\n",
        "  random_headline = headlines.iloc[random.randrange(headlines.shape[0])][\"headline_text\"]\n",
        "  print('Randomly Selected headline:', random_headline)\n",
        "  return random_headline"
      ],
      "metadata": {
        "id": "LZ8wFIbxw_CK"
      },
      "execution_count": 32,
      "outputs": []
    },
    {
      "cell_type": "markdown",
      "source": [
        "### Method for Randomly Selecting a Query Word from the headlines"
      ],
      "metadata": {
        "id": "hFKK3YgwyqKM"
      }
    },
    {
      "cell_type": "code",
      "source": [
        "def select_word_query(headlines, tfidf):\n",
        "  query = random.randrange(headlines.shape[1])\n",
        "  print('Randomly Selected word index:', query)\n",
        "  print('Randomly Selected word:', tfidf.get_feature_names_out()[query])\n",
        "  return query"
      ],
      "metadata": {
        "id": "b5qXCOP7ynLW"
      },
      "execution_count": 52,
      "outputs": []
    },
    {
      "cell_type": "markdown",
      "source": [
        "### Method for Displaying similar headlines"
      ],
      "metadata": {
        "id": "-LrTQdG4yy_c"
      }
    },
    {
      "cell_type": "code",
      "source": [
        "def display_similar_headlines(headlines, similarity, num):\n",
        "  print(headlines.iloc[np.argsort(similarity[0])[::-1][0:num]][[\"publish_date\", \"headline_text\"]])"
      ],
      "metadata": {
        "id": "M7TYeL4Cyo-o"
      },
      "execution_count": 34,
      "outputs": []
    },
    {
      "cell_type": "markdown",
      "source": [
        "## Working with TF-IDF Vectorizer for Documents and Words"
      ],
      "metadata": {
        "id": "hNA3T8NxzMvQ"
      }
    },
    {
      "cell_type": "markdown",
      "source": [
        "### TF-IDF Vectorizer for Documents, with preset settings\n",
        "\n",
        "This section uses a TF-IDF Vectorizer for Documents, with preset settings"
      ],
      "metadata": {
        "id": "2-igxOSSzYYl"
      }
    },
    {
      "cell_type": "markdown",
      "source": [
        "#### Initialize TF-IDF Vectorizer"
      ],
      "metadata": {
        "id": "c4hfJt32mTNh"
      }
    },
    {
      "cell_type": "code",
      "source": [
        "tfidf = TfidfVectorizer()\n",
        "all_headlines_tf_idf = tfidf.fit_transform(headlines[\"headline_text\"][headlines[\"headline_text\"] != np.nan])"
      ],
      "metadata": {
        "id": "o8D6lc-sl65m"
      },
      "execution_count": 42,
      "outputs": []
    },
    {
      "cell_type": "markdown",
      "source": [
        "#### Selecting a made-up headline and evaluating it's TF-IDF"
      ],
      "metadata": {
        "id": "W7IiFaCnp-HH"
      }
    },
    {
      "cell_type": "code",
      "source": [
        "made_up_headline_tf_idf = tfidf.transform([select_headline(headlines)])"
      ],
      "metadata": {
        "id": "9ZE2gjTrmBOc",
        "colab": {
          "base_uri": "https://localhost:8080/"
        },
        "outputId": "883cf5ad-e684-4824-bc3f-99b96cae108f"
      },
      "execution_count": 43,
      "outputs": [
        {
          "output_type": "stream",
          "name": "stdout",
          "text": [
            "Randomly Selected headline: broncos grounded despite knights demolition\n"
          ]
        }
      ]
    },
    {
      "cell_type": "markdown",
      "source": [
        "#### Shapes of 'All Headlines' and 'Made-Up' Headline"
      ],
      "metadata": {
        "id": "e1fM0xW1qLo6"
      }
    },
    {
      "cell_type": "code",
      "source": [
        "print(\"All    Headlines Shape: \",all_headlines_tf_idf.shape)\n",
        "print(\"Made-Up Headline Shape: \",made_up_headline_tf_idf.shape)"
      ],
      "metadata": {
        "colab": {
          "base_uri": "https://localhost:8080/"
        },
        "id": "2TkhB05goWRz",
        "outputId": "3e5d2176-6144-4e3e-e4b1-6dd53861e51d"
      },
      "execution_count": 44,
      "outputs": [
        {
          "output_type": "stream",
          "name": "stdout",
          "text": [
            "All    Headlines Shape:  (1103663, 95878)\n",
            "Made-Up Headline Shape:  (1, 95878)\n"
          ]
        }
      ]
    },
    {
      "cell_type": "markdown",
      "source": [
        "#### Evaluating Similarity B/w ***Choosen Headline and All Headlines***"
      ],
      "metadata": {
        "id": "vYoQ9eMDqVmF"
      }
    },
    {
      "cell_type": "code",
      "source": [
        "sim = cosine_similarity(made_up_headline_tf_idf, all_headlines_tf_idf)\n",
        "sim"
      ],
      "metadata": {
        "colab": {
          "base_uri": "https://localhost:8080/"
        },
        "id": "Kg5CV7BZp4aM",
        "outputId": "b5836e79-1b96-4afb-9249-3c3ccedae077"
      },
      "execution_count": 45,
      "outputs": [
        {
          "output_type": "execute_result",
          "data": {
            "text/plain": [
              "array([[0., 0., 0., ..., 0., 0., 0.]])"
            ]
          },
          "metadata": {},
          "execution_count": 45
        }
      ]
    },
    {
      "cell_type": "markdown",
      "source": [
        "#### Displaying Similar Headlines"
      ],
      "metadata": {
        "id": "6R7pXGUiqu4e"
      }
    },
    {
      "cell_type": "markdown",
      "source": [
        "##### Defining Number of Headlines, to be displayed"
      ],
      "metadata": {
        "id": "R1B3MpMjq2PI"
      }
    },
    {
      "cell_type": "code",
      "source": [
        "num_of_headlines = 10"
      ],
      "metadata": {
        "id": "xMNoQrK6qy2Q"
      },
      "execution_count": 46,
      "outputs": []
    },
    {
      "cell_type": "markdown",
      "source": [
        "##### Printing the top headlines, with the limits set above."
      ],
      "metadata": {
        "id": "4vUcfUXVq7Uo"
      }
    },
    {
      "cell_type": "code",
      "execution_count": 47,
      "metadata": {
        "colab": {
          "base_uri": "https://localhost:8080/"
        },
        "id": "ChO94qoglXOQ",
        "outputId": "029951fb-6809-4d52-fc44-7c012c95a286"
      },
      "outputs": [
        {
          "output_type": "stream",
          "name": "stdout",
          "text": [
            "       publish_date                                headline_text\n",
            "261036   2006-09-20  broncos grounded despite knights demolition\n",
            "260319   2006-09-16                       broncos humble knights\n",
            "680430   2012-03-16                knights vs broncos highlights\n",
            "551148   2010-07-18            dugan stars in knights demolition\n",
            "822786   2013-09-27         knights grounded before prelim final\n",
            "174719   2005-07-09         eagles grounded despite winning ways\n",
            "5224     2003-03-16                knights broncos open accounts\n",
            "809554   2013-08-08                              demolition deal\n",
            "606534   2011-04-10        broncos make late changes for knights\n",
            "260320   2006-09-16                   broncos obliterate knights\n"
          ]
        }
      ],
      "source": [
        "display_similar_headlines(headlines, sim, num_of_headlines)"
      ]
    },
    {
      "cell_type": "markdown",
      "source": [
        "### TF-IDF Vectorizer for Words\n",
        "\n",
        "This section uses a TF-IDF Vectorizer for Words, with *stopwords and minimum document frequency set*"
      ],
      "metadata": {
        "id": "kN3cFBq9zr5L"
      }
    },
    {
      "cell_type": "markdown",
      "source": [
        "#### Importing Required Packages"
      ],
      "metadata": {
        "id": "OKtfgdM6z-Ce"
      }
    },
    {
      "cell_type": "code",
      "source": [
        "from spacy.lang.en.stop_words import STOP_WORDS as stopwords"
      ],
      "metadata": {
        "id": "JmOACa-6z9iX"
      },
      "execution_count": 49,
      "outputs": []
    },
    {
      "cell_type": "markdown",
      "source": [
        "#### Initialize TF-IDF Vectorizer"
      ],
      "metadata": {
        "id": "fTH1eWix0FKE"
      }
    },
    {
      "cell_type": "code",
      "source": [
        "tfidf_word = TfidfVectorizer(stop_words=stopwords, min_df=1000)\n",
        "all_headlines_tf_idf = tfidf_word.fit_transform(headlines[\"headline_text\"])"
      ],
      "metadata": {
        "colab": {
          "base_uri": "https://localhost:8080/"
        },
        "id": "g7rpWySw0Ful",
        "outputId": "45406d89-501c-46c6-f58d-2a49fb660547"
      },
      "execution_count": 53,
      "outputs": [
        {
          "output_type": "stream",
          "name": "stderr",
          "text": [
            "/usr/local/lib/python3.7/dist-packages/sklearn/feature_extraction/text.py:401: UserWarning: Your stop_words may be inconsistent with your preprocessing. Tokenizing the stop words generated tokens ['ll', 've'] not in stop_words.\n",
            "  % sorted(inconsistent)\n"
          ]
        }
      ]
    },
    {
      "cell_type": "markdown",
      "source": [
        "#### Selecting a made-up headline and evaluating it's TF-IDF"
      ],
      "metadata": {
        "id": "y3XbVVMn0MLJ"
      }
    },
    {
      "cell_type": "code",
      "source": [
        "made_up_headline_tf_idf = all_headlines_tf_idf.T[select_word_query(headlines, tfidf_word)]"
      ],
      "metadata": {
        "colab": {
          "base_uri": "https://localhost:8080/"
        },
        "id": "I4zjvfC10MLK",
        "outputId": "e2e9ba6c-31df-4ed7-99a1-375df08fde41"
      },
      "execution_count": 55,
      "outputs": [
        {
          "output_type": "stream",
          "name": "stdout",
          "text": [
            "Randomly Selected word index: 1\n",
            "Randomly Selected word: 100\n"
          ]
        }
      ]
    },
    {
      "cell_type": "markdown",
      "source": [
        "#### Evaluating Similarity B/w ***Choosen Query and All Headlines***"
      ],
      "metadata": {
        "id": "RNiyhN4K1YU0"
      }
    },
    {
      "cell_type": "code",
      "source": [
        "sim = cosine_similarity(made_up_headline_tf_idf, all_headlines_tf_idf.T)\n",
        "sim"
      ],
      "metadata": {
        "colab": {
          "base_uri": "https://localhost:8080/"
        },
        "id": "TaDcf0J70vDA",
        "outputId": "05f8faa8-9644-4e88-f214-d177e4443c8b"
      },
      "execution_count": 59,
      "outputs": [
        {
          "output_type": "execute_result",
          "data": {
            "text/plain": [
              "array([[2.72498919e-03, 1.00000000e+00, 7.57377657e-04, ...,\n",
              "        7.67570958e-04, 1.77351649e-03, 4.94455149e-03]])"
            ]
          },
          "metadata": {},
          "execution_count": 59
        }
      ]
    },
    {
      "cell_type": "markdown",
      "source": [
        "#### Displaying Similar Headlines"
      ],
      "metadata": {
        "id": "6Fyw4RDk1Av4"
      }
    },
    {
      "cell_type": "markdown",
      "source": [
        "##### Defining Number of Headlines, to be displayed"
      ],
      "metadata": {
        "id": "hwThqxKo1Av4"
      }
    },
    {
      "cell_type": "code",
      "source": [
        "num_of_headlines = 10"
      ],
      "metadata": {
        "id": "CgWXqrnC1Av5"
      },
      "execution_count": 57,
      "outputs": []
    },
    {
      "cell_type": "markdown",
      "source": [
        "##### Printing the top headlines, with the limits set above."
      ],
      "metadata": {
        "id": "-heRckcz1Av5"
      }
    },
    {
      "cell_type": "code",
      "execution_count": 58,
      "metadata": {
        "colab": {
          "base_uri": "https://localhost:8080/"
        },
        "outputId": "f0d9c3c6-c629-4c50-c888-9d73b7a61f7f",
        "id": "Q-1Ti-2W1Av5"
      },
      "outputs": [
        {
          "output_type": "stream",
          "name": "stdout",
          "text": [
            "\n",
            "Found following similar words: \n",
            "Index\tWord\n",
            "1\t100\n",
            "1127\tyears\n",
            "267\tdays\n",
            "166\tcelebrates\n",
            "639\tmillion\n",
            "691\told\n",
            "543\tjobs\n",
            "1126\tyear\n",
            "1049\tturns\n",
            "1022\ttoll\n"
          ]
        },
        {
          "output_type": "stream",
          "name": "stderr",
          "text": [
            "/usr/local/lib/python3.7/dist-packages/sklearn/utils/deprecation.py:87: FutureWarning: Function get_feature_names is deprecated; get_feature_names is deprecated in 1.0 and will be removed in 1.2. Please use get_feature_names_out instead.\n",
            "  warnings.warn(msg, category=FutureWarning)\n"
          ]
        }
      ],
      "source": [
        "#Printing Similar documents found by cosine similarity\n",
        "print(\"\\nFound following similar words: \")\n",
        "print(\"Index\\tWord\")\n",
        "for index in np.argsort(sim[0])[::-1][0:num_of_headlines]:\n",
        "  print(f\"{index}\\t{tfidf_word.get_feature_names_out()[index]}\")"
      ]
    }
  ]
}