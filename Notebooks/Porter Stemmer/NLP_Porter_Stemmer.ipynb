{
  "nbformat": 4,
  "nbformat_minor": 0,
  "metadata": {
    "colab": {
      "name": "NLP - Porter Stemmer.ipynb",
      "provenance": [],
      "collapsed_sections": [],
      "toc_visible": true
    },
    "kernelspec": {
      "name": "python3",
      "display_name": "Python 3"
    },
    "language_info": {
      "name": "python"
    }
  },
  "cells": [
    {
      "cell_type": "markdown",
      "source": [
        "# Porter Stemmer"
      ],
      "metadata": {
        "id": "mIfjSirgZIVV"
      }
    },
    {
      "cell_type": "markdown",
      "source": [
        "## Importing Packages and Downloading Resources"
      ],
      "metadata": {
        "id": "jFH8-599ZPcO"
      }
    },
    {
      "cell_type": "code",
      "source": [
        "import nltk\n",
        "from nltk.stem import PorterStemmer\n",
        "nltk.download('stopwords')\n",
        "nltk.download('punkt')"
      ],
      "metadata": {
        "colab": {
          "base_uri": "https://localhost:8080/"
        },
        "id": "exTt8Rh9ZT9D",
        "outputId": "8715204a-cf03-4b0d-b78c-12aa889c801c"
      },
      "execution_count": 2,
      "outputs": [
        {
          "output_type": "stream",
          "name": "stdout",
          "text": [
            "[nltk_data] Downloading package stopwords to /root/nltk_data...\n",
            "[nltk_data]   Package stopwords is already up-to-date!\n",
            "[nltk_data] Downloading package punkt to /root/nltk_data...\n",
            "[nltk_data]   Package punkt is already up-to-date!\n"
          ]
        },
        {
          "output_type": "execute_result",
          "data": {
            "text/plain": [
              "True"
            ]
          },
          "metadata": {},
          "execution_count": 2
        }
      ]
    },
    {
      "cell_type": "markdown",
      "source": [
        "## Setting Stopwords for only 'English' language"
      ],
      "metadata": {
        "id": "yzxMUxHxZahb"
      }
    },
    {
      "cell_type": "code",
      "source": [
        "stopwords = set(nltk.corpus.stopwords.words('english'))"
      ],
      "metadata": {
        "id": "tSMs2MSPZXcM"
      },
      "execution_count": 3,
      "outputs": []
    },
    {
      "cell_type": "markdown",
      "source": [
        "## Sentence (Content) for processing"
      ],
      "metadata": {
        "id": "HUounZSgZj6x"
      }
    },
    {
      "cell_type": "code",
      "source": [
        "sentence = \"\"\"An exception represents a run-time error that halts the normal execution at a particular line and transfers control to error handling code. This section just introduces the most basic uses of exceptions.\n",
        "For example a run-time error might be that a variable used in the program does not have a value (ValueError .. you've probably seen that one a few times), or a file open operation error because a file does not exist (IOError). Learn more in the exceptions tutorial and see the entire exception list.\"\"\""
      ],
      "metadata": {
        "id": "seu4La6JZid2"
      },
      "execution_count": 4,
      "outputs": []
    },
    {
      "cell_type": "markdown",
      "source": [
        "## Tokenizing the given sentence"
      ],
      "metadata": {
        "id": "1IMrVUktZ_IF"
      }
    },
    {
      "cell_type": "code",
      "source": [
        "tokens = nltk.word_tokenize(sentence)\n",
        "print(\"Tokens found in the sentence: \",tokens)"
      ],
      "metadata": {
        "colab": {
          "base_uri": "https://localhost:8080/"
        },
        "id": "mv0Y42KLZ8eQ",
        "outputId": "bc995882-0149-4a13-865e-1735e8e6d4e0"
      },
      "execution_count": 5,
      "outputs": [
        {
          "output_type": "stream",
          "name": "stdout",
          "text": [
            "Tokens found in the sentence:  ['An', 'exception', 'represents', 'a', 'run-time', 'error', 'that', 'halts', 'the', 'normal', 'execution', 'at', 'a', 'particular', 'line', 'and', 'transfers', 'control', 'to', 'error', 'handling', 'code', '.', 'This', 'section', 'just', 'introduces', 'the', 'most', 'basic', 'uses', 'of', 'exceptions', '.', 'For', 'example', 'a', 'run-time', 'error', 'might', 'be', 'that', 'a', 'variable', 'used', 'in', 'the', 'program', 'does', 'not', 'have', 'a', 'value', '(', 'ValueError', '..', 'you', \"'ve\", 'probably', 'seen', 'that', 'one', 'a', 'few', 'times', ')', ',', 'or', 'a', 'file', 'open', 'operation', 'error', 'because', 'a', 'file', 'does', 'not', 'exist', '(', 'IOError', ')', '.', 'Learn', 'more', 'in', 'the', 'exceptions', 'tutorial', 'and', 'see', 'the', 'entire', 'exception', 'list', '.']\n"
          ]
        }
      ]
    },
    {
      "cell_type": "markdown",
      "source": [
        "## Filtering Tokens, based on stopwords"
      ],
      "metadata": {
        "id": "2PvfhWdhaD6o"
      }
    },
    {
      "cell_type": "code",
      "source": [
        "tokens2 = [t for t in tokens if t.lower() not in stopwords]\n",
        "print(\"Tokens found (excluding stopwords): \",tokens2)"
      ],
      "metadata": {
        "colab": {
          "base_uri": "https://localhost:8080/"
        },
        "id": "UzGpK3g0Z90M",
        "outputId": "36d1518c-ecc5-4b0f-a709-9786c66ff6a7"
      },
      "execution_count": 6,
      "outputs": [
        {
          "output_type": "stream",
          "name": "stdout",
          "text": [
            "Tokens found (excluding stopwords):  ['exception', 'represents', 'run-time', 'error', 'halts', 'normal', 'execution', 'particular', 'line', 'transfers', 'control', 'error', 'handling', 'code', '.', 'section', 'introduces', 'basic', 'uses', 'exceptions', '.', 'example', 'run-time', 'error', 'might', 'variable', 'used', 'program', 'value', '(', 'ValueError', '..', \"'ve\", 'probably', 'seen', 'one', 'times', ')', ',', 'file', 'open', 'operation', 'error', 'file', 'exist', '(', 'IOError', ')', '.', 'Learn', 'exceptions', 'tutorial', 'see', 'entire', 'exception', 'list', '.']\n"
          ]
        }
      ]
    },
    {
      "cell_type": "markdown",
      "source": [
        "## Displaying Stems for each word (filtered)"
      ],
      "metadata": {
        "id": "O0ULLd7kaI7F"
      }
    },
    {
      "cell_type": "markdown",
      "source": [
        "### Initializing PorterStemmer"
      ],
      "metadata": {
        "id": "L7UBRlZHaUgV"
      }
    },
    {
      "cell_type": "code",
      "source": [
        "ps = PorterStemmer()"
      ],
      "metadata": {
        "id": "tprbSKcLaX4b"
      },
      "execution_count": 7,
      "outputs": []
    },
    {
      "cell_type": "markdown",
      "source": [
        "### Displaying Stems for the filtered words"
      ],
      "metadata": {
        "id": "EmxWIYKYbO4R"
      }
    },
    {
      "cell_type": "code",
      "execution_count": 10,
      "metadata": {
        "colab": {
          "base_uri": "https://localhost:8080/"
        },
        "id": "Q8DaFx-BY-Hi",
        "outputId": "20d4da70-4d7d-43d7-ea84-362e0601b731"
      },
      "outputs": [
        {
          "output_type": "stream",
          "name": "stdout",
          "text": [
            "Roots for each word (filtered):\n",
            "Word                      :  Stem                     \n",
            "exception                 :  except                   \n",
            "represents                :  repres                   \n",
            "run-time                  :  run-tim                  \n",
            "error                     :  error                    \n",
            "halts                     :  halt                     \n",
            "normal                    :  normal                   \n",
            "execution                 :  execut                   \n",
            "particular                :  particular               \n",
            "line                      :  line                     \n",
            "transfers                 :  transfer                 \n",
            "control                   :  control                  \n",
            "error                     :  error                    \n",
            "handling                  :  handl                    \n",
            "code                      :  code                     \n",
            ".                         :  .                        \n",
            "section                   :  section                  \n",
            "introduces                :  introduc                 \n",
            "basic                     :  basic                    \n",
            "uses                      :  use                      \n",
            "exceptions                :  except                   \n",
            ".                         :  .                        \n",
            "example                   :  exampl                   \n",
            "run-time                  :  run-tim                  \n",
            "error                     :  error                    \n",
            "might                     :  might                    \n",
            "variable                  :  variabl                  \n",
            "used                      :  use                      \n",
            "program                   :  program                  \n",
            "value                     :  valu                     \n",
            "(                         :  (                        \n",
            "ValueError                :  valueerror               \n",
            "..                        :  ..                       \n",
            "'ve                       :  've                      \n",
            "probably                  :  probabl                  \n",
            "seen                      :  seen                     \n",
            "one                       :  one                      \n",
            "times                     :  time                     \n",
            ")                         :  )                        \n",
            ",                         :  ,                        \n",
            "file                      :  file                     \n",
            "open                      :  open                     \n",
            "operation                 :  oper                     \n",
            "error                     :  error                    \n",
            "file                      :  file                     \n",
            "exist                     :  exist                    \n",
            "(                         :  (                        \n",
            "IOError                   :  ioerror                  \n",
            ")                         :  )                        \n",
            ".                         :  .                        \n",
            "Learn                     :  learn                    \n",
            "exceptions                :  except                   \n",
            "tutorial                  :  tutori                   \n",
            "see                       :  see                      \n",
            "entire                    :  entir                    \n",
            "exception                 :  except                   \n",
            "list                      :  list                     \n",
            ".                         :  .                        \n"
          ]
        }
      ],
      "source": [
        "print(\"Roots for each word (filtered):\")\n",
        "print(\"Word\".ljust(25,\" \"),\": \",\"Stem\".ljust(25,\" \"))\n",
        "for w in tokens2:\n",
        "    print(w.ljust(25,\" \"), \": \", ps.stem(w).ljust(25,\" \"))"
      ]
    }
  ]
}