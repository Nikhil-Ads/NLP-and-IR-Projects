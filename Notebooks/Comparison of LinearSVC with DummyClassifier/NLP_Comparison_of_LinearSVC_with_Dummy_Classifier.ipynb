{
  "nbformat": 4,
  "nbformat_minor": 0,
  "metadata": {
    "colab": {
      "name": "NLP - Comparison of LinearSVC with Dummy Classifier.ipynb",
      "provenance": [],
      "collapsed_sections": [],
      "toc_visible": true
    },
    "kernelspec": {
      "name": "python3",
      "display_name": "Python 3"
    },
    "language_info": {
      "name": "python"
    }
  },
  "cells": [
    {
      "cell_type": "markdown",
      "source": [
        "# Comparison of LinearSVC with Dummy Classifier"
      ],
      "metadata": {
        "id": "gEP-QEkTZjHT"
      }
    },
    {
      "cell_type": "markdown",
      "source": [
        "## Importing Packages"
      ],
      "metadata": {
        "id": "FQeYMKUvSPby"
      }
    },
    {
      "cell_type": "code",
      "source": [
        "import pandas as pd\n",
        "import matplotlib.pyplot as plt\n",
        "from sklearn.svm import LinearSVC\n",
        "from sklearn.dummy import DummyClassifier\n",
        "from sklearn.model_selection import train_test_split\n",
        "from sklearn.feature_extraction.text import TfidfVectorizer\n",
        "from sklearn.metrics import accuracy_score\n",
        "from sklearn.metrics import confusion_matrix\n",
        "from sklearn.metrics import classification_report\n",
        "from sklearn.metrics import ConfusionMatrixDisplay"
      ],
      "metadata": {
        "id": "ZLrNiEBvSN7m"
      },
      "execution_count": 33,
      "outputs": []
    },
    {
      "cell_type": "markdown",
      "source": [
        "## Read CSV"
      ],
      "metadata": {
        "id": "hq2CI2pWSNd9"
      }
    },
    {
      "cell_type": "code",
      "source": [
        "df = pd.read_csv('eclipse_jdt.csv')"
      ],
      "metadata": {
        "id": "xvXEelWSSUMX"
      },
      "execution_count": 34,
      "outputs": []
    },
    {
      "cell_type": "markdown",
      "source": [
        "## Exploratory Data Analysis\n",
        "\n",
        "This section helps in data visualization."
      ],
      "metadata": {
        "id": "VHt5GrqEVsYZ"
      }
    },
    {
      "cell_type": "code",
      "source": [
        "pd.set_option('display.max_colwidth', 3)\n",
        "print(\"Sample of data:\\n\", df.sample(1).T)"
      ],
      "metadata": {
        "colab": {
          "base_uri": "https://localhost:8080/"
        },
        "id": "snL2js4uYzqw",
        "outputId": "f759d556-157c-4a50-aa9b-422022560d78"
      },
      "execution_count": 35,
      "outputs": [
        {
          "output_type": "stream",
          "name": "stdout",
          "text": [
            "Sample of data:\n",
            "                                                                                                                                                                                                                                                                                                                                                                                                                                                                                                                                                                                                                                                                                                                                                                                                                                               42637\n",
            "Issue_id          347565                                                                                                                                                                                                                                                                                                                                                                                                                                                                                                                                                                                                                                                                                                                                                                                                                           \n",
            "Priority          P3                                                                                                                                                                                                                                                                                                                                                                                                                                                                                                                                                                                                                                                                                                                                                                                                                               \n",
            "Component         Doc                                                                                                                                                                                                                                                                                                                                                                                                                                                                                                                                                                                                                                                                                                                                                                                                                              \n",
            "Duplicated_issue  NaN                                                                                                                                                                                                                                                                                                                                                                                                                                                                                                                                                                                                                                                                                                                                                                                                                              \n",
            "Title             extract_method_dialog.png content inconsistent with other sections in gettingStarted                                                                                                                                                                                                                                                                                                                                                                                                                                                                                                                                                                                                                                                                                                                                             \n",
            "Description       Build Identifier: 20110218-0911; ; The Method name; collectedInheritedTests; in the example figure of step 3 the Extract Method section of Help -> Java development user guide -> Getting Started -> Basic tutorial -> Editing Java elements -> Extracting a new method doesnt match the name; collectInheritedTests; in the figures of steps 4. and 5.  The full path to the image is http://127.0.0.1:51062/help/topic/org.eclipse.jdt.doc.user/gettingStarted/images/extract_method_dialog.png; ; Reproducible: Always; ; Steps to Reproduce:; 1. Select Help -> Help Contents; 2. Select Java development user guide -> Getting Started -> Basic tutorial -> Editing Java elements -> Extracting a new method.; 3. Scroll down to Step 3. to view the image.; 4. Compare the content of the image to those in Steps 4. and 5.\n",
            "Status            VERIFIED                                                                                                                                                                                                                                                                                                                                                                                                                                                                                                                                                                                                                                                                                                                                                                                                                         \n",
            "Resolution        FIXED                                                                                                                                                                                                                                                                                                                                                                                                                                                                                                                                                                                                                                                                                                                                                                                                                            \n",
            "Version           3.6.2                                                                                                                                                                                                                                                                                                                                                                                                                                                                                                                                                                                                                                                                                                                                                                                                                            \n",
            "Created_time      2011-05-29 00:14:00 -0400                                                                                                                                                                                                                                                                                                                                                                                                                                                                                                                                                                                                                                                                                                                                                                                                        \n",
            "Resolved_time     2011-06-03 04:32:47 -0400                                                                                                                                                                                                                                                                                                                                                                                                                                                                                                                                                                                                                                                                                                                                                                                                        \n"
          ]
        }
      ]
    },
    {
      "cell_type": "code",
      "source": [
        "df['Priority'].value_counts().sort_index().plot(kind='bar')\n",
        "plt.show()"
      ],
      "metadata": {
        "colab": {
          "base_uri": "https://localhost:8080/",
          "height": 268
        },
        "id": "0_88K_6ESZ0r",
        "outputId": "f5d04794-70fa-46be-ce37-276bc6ca0651"
      },
      "execution_count": 36,
      "outputs": [
        {
          "output_type": "display_data",
          "data": {
            "image/png": "[encoded data removed]",
            "text/plain": [
              "<Figure size 432x288 with 1 Axes>"
            ]
          },
          "metadata": {
            "needs_background": "light"
          }
        }
      ]
    },
    {
      "cell_type": "markdown",
      "source": [
        "## Data Preprocessing"
      ],
      "metadata": {
        "id": "AejD_3sHSpb_"
      }
    },
    {
      "cell_type": "markdown",
      "source": [
        "### Data Transformation"
      ],
      "metadata": {
        "id": "maflb2O3ViM3"
      }
    },
    {
      "cell_type": "code",
      "source": [
        "df['text'] = df['Title'] + ' ' + df['Description']\n",
        "df = df.drop(columns=['Title','Description'])"
      ],
      "metadata": {
        "id": "KBqDlFCPSoo-"
      },
      "execution_count": 37,
      "outputs": []
    },
    {
      "cell_type": "markdown",
      "source": [
        "### Data Filtering"
      ],
      "metadata": {
        "id": "Xq7Tvr3tVliS"
      }
    },
    {
      "cell_type": "code",
      "source": [
        "df = df[df['text'].str.len() > 50]"
      ],
      "metadata": {
        "id": "MGDXre2NVhUJ"
      },
      "execution_count": 38,
      "outputs": []
    },
    {
      "cell_type": "markdown",
      "source": [
        "## Train-Test Split"
      ],
      "metadata": {
        "id": "hQYZR0LLSwnW"
      }
    },
    {
      "cell_type": "code",
      "source": [
        "X_train, X_test, Y_train, Y_test = train_test_split(df['text'],\n",
        "                                                    df['Priority'],\n",
        "                                                    test_size=0.2,\n",
        "                                                    stratify=df['Priority'])\n",
        "\n",
        "print('Size of Training Data ', X_train.shape[0])\n",
        "print('Size of Test Data ', X_test.shape[0])"
      ],
      "metadata": {
        "colab": {
          "base_uri": "https://localhost:8080/"
        },
        "id": "oUaatAckSsHj",
        "outputId": "3fd454e5-8cbd-4f3e-f8cd-24f64c666089"
      },
      "execution_count": 39,
      "outputs": [
        {
          "output_type": "stream",
          "name": "stdout",
          "text": [
            "Size of Training Data  36070\n",
            "Size of Test Data  9018\n"
          ]
        }
      ]
    },
    {
      "cell_type": "markdown",
      "source": [
        "## TF-IDF Vectorizer"
      ],
      "metadata": {
        "id": "F12LLcroS4TI"
      }
    },
    {
      "cell_type": "code",
      "source": [
        "tfidf = TfidfVectorizer(min_df = 10, ngram_range=(1,2), stop_words=\"english\")\n",
        "X_train_tf = tfidf.fit_transform(X_train)\n",
        "X_test_tf = tfidf.transform(X_test)"
      ],
      "metadata": {
        "id": "L-BepXk4S32V"
      },
      "execution_count": 40,
      "outputs": []
    },
    {
      "cell_type": "markdown",
      "source": [
        "## Applying Classifiers"
      ],
      "metadata": {
        "id": "O3jYghxMTCqR"
      }
    },
    {
      "cell_type": "code",
      "source": [
        "def apply_model(model, X, Y, X_test, Y_test):\n",
        "  model.fit(X, Y)\n",
        "  Y_pred = model.predict(X_test)\n",
        "  print ('Accuracy Score - ', accuracy_score(Y_test, Y_pred))"
      ],
      "metadata": {
        "id": "OAN-4IMdS9aN"
      },
      "execution_count": 41,
      "outputs": []
    },
    {
      "cell_type": "markdown",
      "source": [
        "### Linear SVC"
      ],
      "metadata": {
        "id": "_KxLdv0ATH2Z"
      }
    },
    {
      "cell_type": "markdown",
      "source": [
        "#### Applying Model"
      ],
      "metadata": {
        "id": "O7ntSlwDYnVU"
      }
    },
    {
      "cell_type": "code",
      "source": [
        "model = LinearSVC(random_state=0, tol=1e-5)\n",
        "apply_model(model, X_train_tf, Y_train, X_test_tf, Y_test)"
      ],
      "metadata": {
        "colab": {
          "base_uri": "https://localhost:8080/"
        },
        "id": "4P1JU9O3TUkp",
        "outputId": "f18d7a50-1abc-4d23-b144-85625cbad1c5"
      },
      "execution_count": 42,
      "outputs": [
        {
          "output_type": "stream",
          "name": "stdout",
          "text": [
            "Accuracy Score -  0.8731426036815259\n"
          ]
        }
      ]
    },
    {
      "cell_type": "markdown",
      "source": [
        "#### Plotting Confusion Matrix"
      ],
      "metadata": {
        "id": "UkLllgoPVVO8"
      }
    },
    {
      "cell_type": "code",
      "source": [
        "Y_pred = model.predict(X_test_tf)\n",
        "print(confusion_matrix(Y_test, Y_pred))"
      ],
      "metadata": {
        "colab": {
          "base_uri": "https://localhost:8080/"
        },
        "id": "2obe5_a0VHdt",
        "outputId": "153ea9cc-8fc4-4e21-b614-9c2fe28e85cf"
      },
      "execution_count": 43,
      "outputs": [
        {
          "output_type": "stream",
          "name": "stdout",
          "text": [
            "[[  22   17  184    1    0]\n",
            " [   4   16  585    3    0]\n",
            " [  21   59 7805   23    0]\n",
            " [   0    3  194   31    0]\n",
            " [   1    0   49    0    0]]\n"
          ]
        }
      ]
    },
    {
      "cell_type": "code",
      "execution_count": 44,
      "metadata": {
        "colab": {
          "base_uri": "https://localhost:8080/",
          "height": 279
        },
        "id": "Q6SC-TiBRzqF",
        "outputId": "a8752d88-e2e5-4f43-da4f-3160aeb0b679"
      },
      "outputs": [
        {
          "output_type": "display_data",
          "data": {
            "image/png": "[encoded data removed]",
            "text/plain": [
              "<Figure size 432x288 with 2 Axes>"
            ]
          },
          "metadata": {
            "needs_background": "light"
          }
        }
      ],
      "source": [
        "ConfusionMatrixDisplay.from_predictions(Y_test, Y_pred, values_format='d', cmap=plt.cm.Blues)\n",
        "plt.show()"
      ]
    },
    {
      "cell_type": "markdown",
      "source": [
        "### Dummy Classifier"
      ],
      "metadata": {
        "id": "zCaEpgyDVQ73"
      }
    },
    {
      "cell_type": "markdown",
      "source": [
        "#### Applying Model"
      ],
      "metadata": {
        "id": "_wInoSsqYjtz"
      }
    },
    {
      "cell_type": "code",
      "source": [
        "model = DummyClassifier(strategy='most_frequent')\n",
        "apply_model(model, X_train, Y_train, X_test, Y_test)"
      ],
      "metadata": {
        "colab": {
          "base_uri": "https://localhost:8080/"
        },
        "id": "HnBBV67KTAKm",
        "outputId": "1d606b80-475d-450b-eac6-3d840846d495"
      },
      "execution_count": 45,
      "outputs": [
        {
          "output_type": "stream",
          "name": "stdout",
          "text": [
            "Accuracy Score -  0.8769128409846972\n"
          ]
        }
      ]
    },
    {
      "cell_type": "markdown",
      "source": [
        "#### Plotting Confusion Matrix"
      ],
      "metadata": {
        "id": "kEamQc2GYQ3N"
      }
    },
    {
      "cell_type": "code",
      "source": [
        "Y_pred = model.predict(X_test)\n",
        "print(confusion_matrix(Y_test, Y_pred))"
      ],
      "metadata": {
        "colab": {
          "base_uri": "https://localhost:8080/"
        },
        "outputId": "bed2f4b8-c832-4808-b47d-e407aa299f1e",
        "id": "cbRU1qGvYQ3X"
      },
      "execution_count": 46,
      "outputs": [
        {
          "output_type": "stream",
          "name": "stdout",
          "text": [
            "[[   0    0  224    0    0]\n",
            " [   0    0  608    0    0]\n",
            " [   0    0 7908    0    0]\n",
            " [   0    0  228    0    0]\n",
            " [   0    0   50    0    0]]\n"
          ]
        }
      ]
    },
    {
      "cell_type": "code",
      "execution_count": 47,
      "metadata": {
        "colab": {
          "base_uri": "https://localhost:8080/",
          "height": 279
        },
        "outputId": "8c1afd84-a336-48f9-a810-840bcc534246",
        "id": "UGoTiq4CYQ3Y"
      },
      "outputs": [
        {
          "output_type": "display_data",
          "data": {
            "image/png": "[encoded data removed]",
            "text/plain": [
              "<Figure size 432x288 with 2 Axes>"
            ]
          },
          "metadata": {
            "needs_background": "light"
          }
        }
      ],
      "source": [
        "ConfusionMatrixDisplay.from_predictions(Y_test, Y_pred, values_format='d', cmap=plt.cm.Blues)\n",
        "plt.show()"
      ]
    },
    {
      "cell_type": "markdown",
      "source": [
        "## Conclusion\n",
        "\n",
        "Linear SVC and DummyClassifier almost give the same accuracy."
      ],
      "metadata": {
        "id": "TSHA4ajmZXt9"
      }
    }
  ]
}